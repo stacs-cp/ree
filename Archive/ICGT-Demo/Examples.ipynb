{
  "cells": [
    {
      "cell_type": "code",
      "execution_count": null,
      "metadata": {},
      "outputs": [],
      "source": [
        "import os\n",
        "import sys\n",
        "sys.path.append('../..')\n",
        "from greee import EFormatGraph\n",
        "\n",
        "spec = r'''\n",
        "given a : bool\n",
        "given b : int(1..10)\n",
        "letting c be 5\n",
        "find d : bool\n",
        "    such that\n",
        "        a = !(d /\\ (b>c))'''\n",
        "\n",
        "ETG = EFormatGraph.EFGraph()\n",
        "gp2 = ETG.FormToForm(spec,\"Emini\",\"GP2String\")\n",
        "\n",
        "hostFileName = \"demorgTest.host\"\n",
        "with open(hostFileName, 'w') as file:\n",
        "    file.write(gp2)\n",
        "print(gp2)"
      ]
    },
    {
      "cell_type": "code",
      "execution_count": null,
      "metadata": {},
      "outputs": [],
      "source": [
        "from greee import gp2Interface\n",
        "print(gp2Interface.scanPrecompiledPrograms())\n"
      ]
    },
    {
      "cell_type": "code",
      "execution_count": null,
      "metadata": {},
      "outputs": [],
      "source": [
        "gp2Interface.runPrecompiledProg(\"DeMorganOne.gp2\",hostFileName)\n",
        "\n",
        "with open(\"gp2.output\") as file:\n",
        "    newSpecGP2 = file.read()\n",
        "    \n",
        "newSpecEmini = ETG.FormToForm(newSpecGP2,\"GP2String\",\"Emini\")\n",
        "print(newSpecEmini)\n"
      ]
    }
  ],
  "metadata": {
    "colab": {
      "provenance": []
    },
    "kernelspec": {
      "display_name": "Python 3",
      "name": "python3"
    },
    "language_info": {
      "codemirror_mode": {
        "name": "ipython",
        "version": 3
      },
      "file_extension": ".py",
      "mimetype": "text/x-python",
      "name": "python",
      "nbconvert_exporter": "python",
      "pygments_lexer": "ipython3",
      "version": "3.11.9"
    }
  },
  "nbformat": 4,
  "nbformat_minor": 0
}
