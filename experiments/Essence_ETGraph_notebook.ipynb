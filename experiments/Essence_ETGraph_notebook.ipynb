{
  "cells": [
    {
      "cell_type": "code",
      "execution_count": 1,
      "metadata": {},
      "outputs": [],
      "source": [
        "import warnings\n",
        "warnings.filterwarnings('ignore')\n",
        "%load_ext autoreload\n",
        "%autoreload 2\n",
        "\n",
        "import sys\n",
        "sys.path.append('..')"
      ]
    },
    {
      "cell_type": "code",
      "execution_count": null,
      "metadata": {},
      "outputs": [],
      "source": [
        "import pandas as pd\n",
        "import time\n",
        "import networkx as nx\n",
        "import matplotlib.pyplot as plt\n",
        "from greee import et_graph\n",
        "\n",
        "def SolveAndTransform() -> int:\n",
        "\n",
        "## Create Reformulation Graph (node: spec, edge:transform)\n",
        "## Actions: generate spec, generate instance, transform spec, solve instance\n",
        "    # event: type, time, space,details\n",
        "    # events: generate instance (abstract spec to constrete spec), translate (Format to format), transform ( spec to spec), solve (concrete spec to solution)\n",
        "    # \n",
        "    etransform_graph = et_graph.EssenceTransformGraph()\n",
        "    # test spec update to generator call\n",
        "    start = time.time_ns() \n",
        "\n",
        "    spec = r'''find i : int(0..100)\n",
        "such that\n",
        "    i = 1 * 2 + 3 * 4\n",
        "find a : bool\n",
        "find b : bool\n",
        "find c : bool\n",
        "such that\n",
        "    a = !(b /\\ c)'''\n",
        "\n",
        "    spec_ID = etransform_graph.add_e_node(spec)\n",
        "    solution = etransform_graph.solve(spec_ID)\n",
        "    solveTime =time.time_ns() - start\n",
        "    parentSolutionID = hash(solution)\n",
        "\n",
        "    # TODO upgrade logs: solution. time, size, number of nodes traversed\n",
        "    \n",
        "    start2 = time.time_ns()\n",
        "\n",
        "    # Transform with GP2 (could be done in parallel)\n",
        "    progName = \"DeMorganTwo.gp2\"\n",
        "\n",
        "    spec2_ID= etransform_graph.transform_with_GP2(spec_ID,progName)\n",
        "    transformTime = time.time_ns() - start2\n",
        "    \n",
        "    # Solve new spec\n",
        "    solution2 = etransform_graph.solve(spec2_ID)\n",
        "    instanceSolveTime = time.time_ns() - transformTime\n",
        "    solutionID = hash(solution2)\n",
        "\n",
        "\n",
        "    # PLOT\n",
        "    pos = nx.spring_layout(etransform_graph.graph)\n",
        "    nx.draw(etransform_graph.graph, pos)\n",
        "    node_labels = nx.get_node_attributes(etransform_graph.graph,'file_name')\n",
        "    nx.draw_networkx_labels(etransform_graph.graph, pos, node_labels)\n",
        "    edge_labels = dict([((n1, n2), d['transformation']) for n1, n2, d in etransform_graph.graph.edges(data=True)])\n",
        "    nx.draw_networkx_edge_labels(etransform_graph.graph, pos, edge_labels=edge_labels)\n",
        "    plt.show(block=True)\n",
        "\n",
        "\n",
        "    return {'parentID': spec_ID, \n",
        "                'childID': spec2_ID, \n",
        "                'trasform': progName, \n",
        "                'transformTime':transformTime, \n",
        "                'parentSolveTime' : solveTime,\n",
        "                'instanceSolveTime':  instanceSolveTime,\n",
        "                'parentSolutionID':parentSolutionID, \n",
        "                'solutionID':solutionID }\n",
        "    \n",
        "\n",
        "    \n",
        "\n",
        "    \n"
      ]
    },
    {
      "cell_type": "code",
      "execution_count": null,
      "metadata": {},
      "outputs": [],
      "source": [
        "\n",
        "# define columns\n",
        "columns = ['parentID', 'childID', 'trasform', 'transformTime', 'parentSolveTime', 'instanceSolveTime','parentSolutionID', 'solutionID']  \n",
        "data_rows = []\n",
        "for i in range(1):\n",
        "    data_rows.append(SolveAndTransform())\n",
        "print(data_rows)\n",
        "dataLogger = pd.DataFrame(data_rows,columns = columns)\n",
        "#dataLogger.to_csv(\"experiments/crankSanityCheck.csv\")"
      ]
    }
  ],
  "metadata": {
    "colab": {
      "provenance": []
    },
    "kernelspec": {
      "display_name": "Python 3",
      "name": "python3"
    },
    "language_info": {
      "codemirror_mode": {
        "name": "ipython",
        "version": 3
      },
      "file_extension": ".py",
      "mimetype": "text/x-python",
      "name": "python",
      "nbconvert_exporter": "python",
      "pygments_lexer": "ipython3",
      "version": "3.11.7"
    }
  },
  "nbformat": 4,
  "nbformat_minor": 0
}
